{
 "cells": [
  {
   "cell_type": "markdown",
   "metadata": {},
   "source": [
    "# Transformatiion de la structure des données"
   ]
  },
  {
   "cell_type": "code",
   "execution_count": 17,
   "metadata": {},
   "outputs": [],
   "source": [
    "import pandas as pd"
   ]
  },
  {
   "cell_type": "code",
   "execution_count": 18,
   "metadata": {},
   "outputs": [],
   "source": [
    "def load_data():\n",
    "    return pd.read_excel(\"Datas/base_streamlit_storytellers.xlsx\",sheet_name=\"chomage\")\n",
    "\n",
    "data = load_data()"
   ]
  },
  {
   "cell_type": "code",
   "execution_count": 9,
   "metadata": {},
   "outputs": [
    {
     "data": {
      "text/plain": [
       "Index([  'Country', 'pays Code',  'Variable',        1990,        1991,\n",
       "              1992,        1993,        1994,        1995,        1996,\n",
       "              1997,        1998,        1999,        2000,        2001,\n",
       "              2002,        2003,        2004,        2005,        2006,\n",
       "              2007,        2008,        2009,        2010,        2011,\n",
       "              2012,        2013,        2014,        2015,        2016,\n",
       "              2017,        2018,        2019,        2020,        2021,\n",
       "              2022,        2023],\n",
       "      dtype='object')"
      ]
     },
     "execution_count": 9,
     "metadata": {},
     "output_type": "execute_result"
    }
   ],
   "source": [
    "data.columns"
   ]
  },
  {
   "cell_type": "code",
   "execution_count": 29,
   "metadata": {},
   "outputs": [],
   "source": [
    "base_panel=pd.melt(data, id_vars=['Country','Variable'], value_vars=[i for i in range(1990,2024,1)], var_name='Year',value_name='valeur')\n",
    "base_panel['Year']=base_panel['Year'].astype(int)\n",
    "\n",
    "# Convertir `valeur` en numérique et remplacer les erreurs par NaN\n",
    "base_panel['valeur'] = pd.to_numeric(base_panel['valeur'], errors='coerce')\n",
    "\n",
    "base_panel=base_panel.pivot_table(index=['Country','Year'],columns='Variable', values='valeur').reset_index()"
   ]
  },
  {
   "cell_type": "code",
   "execution_count": 31,
   "metadata": {},
   "outputs": [],
   "source": [
    "base_panel.to_excel(\"Datas/africa_employment_data.xlsx\",index=False)"
   ]
  },
  {
   "cell_type": "code",
   "execution_count": 28,
   "metadata": {},
   "outputs": [
    {
     "data": {
      "text/html": [
       "<div>\n",
       "<style scoped>\n",
       "    .dataframe tbody tr th:only-of-type {\n",
       "        vertical-align: middle;\n",
       "    }\n",
       "\n",
       "    .dataframe tbody tr th {\n",
       "        vertical-align: top;\n",
       "    }\n",
       "\n",
       "    .dataframe thead th {\n",
       "        text-align: right;\n",
       "    }\n",
       "</style>\n",
       "<table border=\"1\" class=\"dataframe\">\n",
       "  <thead>\n",
       "    <tr style=\"text-align: right;\">\n",
       "      <th>Variable</th>\n",
       "      <th>Country</th>\n",
       "      <th>Year</th>\n",
       "      <th>Chômage (% de la population active) (estimation nationale)</th>\n",
       "    </tr>\n",
       "  </thead>\n",
       "  <tbody>\n",
       "    <tr>\n",
       "      <th>0</th>\n",
       "      <td>Afrique du Sud</td>\n",
       "      <td>1998</td>\n",
       "      <td>25.000</td>\n",
       "    </tr>\n",
       "    <tr>\n",
       "      <th>1</th>\n",
       "      <td>Afrique du Sud</td>\n",
       "      <td>1999</td>\n",
       "      <td>25.370</td>\n",
       "    </tr>\n",
       "    <tr>\n",
       "      <th>2</th>\n",
       "      <td>Afrique du Sud</td>\n",
       "      <td>2000</td>\n",
       "      <td>29.880</td>\n",
       "    </tr>\n",
       "    <tr>\n",
       "      <th>3</th>\n",
       "      <td>Afrique du Sud</td>\n",
       "      <td>2001</td>\n",
       "      <td>25.371</td>\n",
       "    </tr>\n",
       "    <tr>\n",
       "      <th>4</th>\n",
       "      <td>Afrique du Sud</td>\n",
       "      <td>2002</td>\n",
       "      <td>27.180</td>\n",
       "    </tr>\n",
       "  </tbody>\n",
       "</table>\n",
       "</div>"
      ],
      "text/plain": [
       "Variable         Country  Year  \\\n",
       "0         Afrique du Sud  1998   \n",
       "1         Afrique du Sud  1999   \n",
       "2         Afrique du Sud  2000   \n",
       "3         Afrique du Sud  2001   \n",
       "4         Afrique du Sud  2002   \n",
       "\n",
       "Variable  Chômage (% de la population active) (estimation nationale)  \n",
       "0                                                    25.000           \n",
       "1                                                    25.370           \n",
       "2                                                    29.880           \n",
       "3                                                    25.371           \n",
       "4                                                    27.180           "
      ]
     },
     "execution_count": 28,
     "metadata": {},
     "output_type": "execute_result"
    }
   ],
   "source": [
    "base_panel.head()"
   ]
  },
  {
   "cell_type": "code",
   "execution_count": null,
   "metadata": {},
   "outputs": [],
   "source": []
  }
 ],
 "metadata": {
  "kernelspec": {
   "display_name": "base",
   "language": "python",
   "name": "python3"
  },
  "language_info": {
   "codemirror_mode": {
    "name": "ipython",
    "version": 3
   },
   "file_extension": ".py",
   "mimetype": "text/x-python",
   "name": "python",
   "nbconvert_exporter": "python",
   "pygments_lexer": "ipython3",
   "version": "3.11.7"
  }
 },
 "nbformat": 4,
 "nbformat_minor": 2
}
