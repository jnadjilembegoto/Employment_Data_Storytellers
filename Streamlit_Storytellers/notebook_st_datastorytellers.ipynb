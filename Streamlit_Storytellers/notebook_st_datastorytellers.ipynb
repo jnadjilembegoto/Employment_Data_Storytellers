{
 "cells": [
  {
   "cell_type": "markdown",
   "metadata": {},
   "source": [
    "# Transformatiion de la structure des données"
   ]
  },
  {
   "cell_type": "code",
   "execution_count": 2,
   "metadata": {},
   "outputs": [],
   "source": [
    "import pandas as pd"
   ]
  },
  {
   "cell_type": "code",
   "execution_count": 10,
   "metadata": {},
   "outputs": [],
   "source": [
    "def load_data(sheet_name):\n",
    "    return pd.read_excel(\"Datas/base_streamlit_storytellers.xlsx\",sheet_name=sheet_name)\n",
    "\n",
    "data = load_data(\"chomage\")"
   ]
  },
  {
   "cell_type": "code",
   "execution_count": 9,
   "metadata": {},
   "outputs": [
    {
     "data": {
      "text/plain": [
       "Index([  'Country', 'pays Code',  'Variable',        1990,        1991,\n",
       "              1992,        1993,        1994,        1995,        1996,\n",
       "              1997,        1998,        1999,        2000,        2001,\n",
       "              2002,        2003,        2004,        2005,        2006,\n",
       "              2007,        2008,        2009,        2010,        2011,\n",
       "              2012,        2013,        2014,        2015,        2016,\n",
       "              2017,        2018,        2019,        2020,        2021,\n",
       "              2022,        2023],\n",
       "      dtype='object')"
      ]
     },
     "execution_count": 9,
     "metadata": {},
     "output_type": "execute_result"
    }
   ],
   "source": [
    "data.columns"
   ]
  },
  {
   "cell_type": "code",
   "execution_count": null,
   "metadata": {},
   "outputs": [],
   "source": [
    "import pandas as pd \n",
    "def tab_large_en_long(data,debut_year,fin_year):\n",
    "    base_panel=pd.melt(data, id_vars=['Country','Variable'], value_vars=[i for i in range(debut_year,fin_year+1,1)], var_name='Year',value_name='valeur')\n",
    "    base_panel['Year']=base_panel['Year'].astype(int)\n",
    "\n",
    "    # Convertir `valeur` en numérique et remplacer les erreurs par NaN\n",
    "    base_panel['valeur'] = pd.to_numeric(base_panel['valeur'], errors='coerce')\n",
    "\n",
    "    base_panel=base_panel.pivot_table(index=['Country','Year'],columns='Variable', values='valeur').reset_index()\n",
    "    return base_panel\n"
   ]
  },
  {
   "cell_type": "code",
   "execution_count": null,
   "metadata": {},
   "outputs": [
    {
     "data": {
      "text/html": [
       "<div>\n",
       "<style scoped>\n",
       "    .dataframe tbody tr th:only-of-type {\n",
       "        vertical-align: middle;\n",
       "    }\n",
       "\n",
       "    .dataframe tbody tr th {\n",
       "        vertical-align: top;\n",
       "    }\n",
       "\n",
       "    .dataframe thead th {\n",
       "        text-align: right;\n",
       "    }\n",
       "</style>\n",
       "<table border=\"1\" class=\"dataframe\">\n",
       "  <thead>\n",
       "    <tr style=\"text-align: right;\">\n",
       "      <th>Variable</th>\n",
       "      <th>Country</th>\n",
       "      <th>Year</th>\n",
       "      <th>Unemployment Rate</th>\n",
       "    </tr>\n",
       "  </thead>\n",
       "  <tbody>\n",
       "    <tr>\n",
       "      <th>0</th>\n",
       "      <td>Afrique du Sud</td>\n",
       "      <td>1998</td>\n",
       "      <td>25.000</td>\n",
       "    </tr>\n",
       "    <tr>\n",
       "      <th>1</th>\n",
       "      <td>Afrique du Sud</td>\n",
       "      <td>1999</td>\n",
       "      <td>25.370</td>\n",
       "    </tr>\n",
       "    <tr>\n",
       "      <th>2</th>\n",
       "      <td>Afrique du Sud</td>\n",
       "      <td>2000</td>\n",
       "      <td>29.880</td>\n",
       "    </tr>\n",
       "    <tr>\n",
       "      <th>3</th>\n",
       "      <td>Afrique du Sud</td>\n",
       "      <td>2001</td>\n",
       "      <td>25.371</td>\n",
       "    </tr>\n",
       "    <tr>\n",
       "      <th>4</th>\n",
       "      <td>Afrique du Sud</td>\n",
       "      <td>2002</td>\n",
       "      <td>27.180</td>\n",
       "    </tr>\n",
       "    <tr>\n",
       "      <th>...</th>\n",
       "      <td>...</td>\n",
       "      <td>...</td>\n",
       "      <td>...</td>\n",
       "    </tr>\n",
       "    <tr>\n",
       "      <th>450</th>\n",
       "      <td>Éthiopie</td>\n",
       "      <td>1994</td>\n",
       "      <td>3.100</td>\n",
       "    </tr>\n",
       "    <tr>\n",
       "      <th>451</th>\n",
       "      <td>Éthiopie</td>\n",
       "      <td>1999</td>\n",
       "      <td>3.714</td>\n",
       "    </tr>\n",
       "    <tr>\n",
       "      <th>452</th>\n",
       "      <td>Éthiopie</td>\n",
       "      <td>2005</td>\n",
       "      <td>2.497</td>\n",
       "    </tr>\n",
       "    <tr>\n",
       "      <th>453</th>\n",
       "      <td>Éthiopie</td>\n",
       "      <td>2013</td>\n",
       "      <td>2.251</td>\n",
       "    </tr>\n",
       "    <tr>\n",
       "      <th>454</th>\n",
       "      <td>Éthiopie</td>\n",
       "      <td>2021</td>\n",
       "      <td>3.935</td>\n",
       "    </tr>\n",
       "  </tbody>\n",
       "</table>\n",
       "<p>455 rows × 3 columns</p>\n",
       "</div>"
      ],
      "text/plain": [
       "Variable         Country  Year  Unemployment Rate\n",
       "0         Afrique du Sud  1998             25.000\n",
       "1         Afrique du Sud  1999             25.370\n",
       "2         Afrique du Sud  2000             29.880\n",
       "3         Afrique du Sud  2001             25.371\n",
       "4         Afrique du Sud  2002             27.180\n",
       "..                   ...   ...                ...\n",
       "450             Éthiopie  1994              3.100\n",
       "451             Éthiopie  1999              3.714\n",
       "452             Éthiopie  2005              2.497\n",
       "453             Éthiopie  2013              2.251\n",
       "454             Éthiopie  2021              3.935\n",
       "\n",
       "[455 rows x 3 columns]"
      ]
     },
     "execution_count": 12,
     "metadata": {},
     "output_type": "execute_result"
    }
   ],
   "source": [
    "tab_large_en_long(data,1990,2023)\n",
    "base_panel.to_excel(\"Datas/africa_employment_data.xlsx\",index=False)"
   ]
  },
  {
   "cell_type": "code",
   "execution_count": 31,
   "metadata": {},
   "outputs": [],
   "source": [
    "base_panel.to_excel(\"Datas/africa_employment_data.xlsx\",index=False)"
   ]
  },
  {
   "cell_type": "code",
   "execution_count": 28,
   "metadata": {},
   "outputs": [
    {
     "data": {
      "text/html": [
       "<div>\n",
       "<style scoped>\n",
       "    .dataframe tbody tr th:only-of-type {\n",
       "        vertical-align: middle;\n",
       "    }\n",
       "\n",
       "    .dataframe tbody tr th {\n",
       "        vertical-align: top;\n",
       "    }\n",
       "\n",
       "    .dataframe thead th {\n",
       "        text-align: right;\n",
       "    }\n",
       "</style>\n",
       "<table border=\"1\" class=\"dataframe\">\n",
       "  <thead>\n",
       "    <tr style=\"text-align: right;\">\n",
       "      <th>Variable</th>\n",
       "      <th>Country</th>\n",
       "      <th>Year</th>\n",
       "      <th>Chômage (% de la population active) (estimation nationale)</th>\n",
       "    </tr>\n",
       "  </thead>\n",
       "  <tbody>\n",
       "    <tr>\n",
       "      <th>0</th>\n",
       "      <td>Afrique du Sud</td>\n",
       "      <td>1998</td>\n",
       "      <td>25.000</td>\n",
       "    </tr>\n",
       "    <tr>\n",
       "      <th>1</th>\n",
       "      <td>Afrique du Sud</td>\n",
       "      <td>1999</td>\n",
       "      <td>25.370</td>\n",
       "    </tr>\n",
       "    <tr>\n",
       "      <th>2</th>\n",
       "      <td>Afrique du Sud</td>\n",
       "      <td>2000</td>\n",
       "      <td>29.880</td>\n",
       "    </tr>\n",
       "    <tr>\n",
       "      <th>3</th>\n",
       "      <td>Afrique du Sud</td>\n",
       "      <td>2001</td>\n",
       "      <td>25.371</td>\n",
       "    </tr>\n",
       "    <tr>\n",
       "      <th>4</th>\n",
       "      <td>Afrique du Sud</td>\n",
       "      <td>2002</td>\n",
       "      <td>27.180</td>\n",
       "    </tr>\n",
       "  </tbody>\n",
       "</table>\n",
       "</div>"
      ],
      "text/plain": [
       "Variable         Country  Year  \\\n",
       "0         Afrique du Sud  1998   \n",
       "1         Afrique du Sud  1999   \n",
       "2         Afrique du Sud  2000   \n",
       "3         Afrique du Sud  2001   \n",
       "4         Afrique du Sud  2002   \n",
       "\n",
       "Variable  Chômage (% de la population active) (estimation nationale)  \n",
       "0                                                    25.000           \n",
       "1                                                    25.370           \n",
       "2                                                    29.880           \n",
       "3                                                    25.371           \n",
       "4                                                    27.180           "
      ]
     },
     "execution_count": 28,
     "metadata": {},
     "output_type": "execute_result"
    }
   ],
   "source": [
    "base_panel.head()"
   ]
  },
  {
   "cell_type": "markdown",
   "metadata": {},
   "source": [
    "## EMPLOI ET SECTEUR ECONOMIQUE"
   ]
  },
  {
   "cell_type": "code",
   "execution_count": 13,
   "metadata": {},
   "outputs": [],
   "source": [
    "data = load_data(\"Secteur_prof_ais\")\n",
    "base_panel=tab_large_en_long(data,2009,2022)"
   ]
  },
  {
   "cell_type": "code",
   "execution_count": 17,
   "metadata": {},
   "outputs": [],
   "source": [
    "base_panel.to_excel('C:/Users/Hp/Documents/data vsualzato/Streamlit_Storytellers/Employment_Data_Storytellers-main/Streamlit_Storytellers/Datas/emploi_secteur_eco.xlsx',index=False)"
   ]
  },
  {
   "cell_type": "code",
   "execution_count": 16,
   "metadata": {},
   "outputs": [
    {
     "data": {
      "text/plain": [
       "Index(['Country', 'Year', 'Agriculture, valeur ajoutée (% du PIB)',\n",
       "       'Emplois dans les services (% du total des emplois)',\n",
       "       'Emplois dans l’agriculture (% du total des emplois)',\n",
       "       'Emplois dans l’industrie (% du total des emplois)',\n",
       "       'Employées, agriculture, femmes (% d’emploi des femmes)',\n",
       "       'Employées, industrie, femmes (% d’emploi des femmes)',\n",
       "       'Employées, services, femmes (% d’emploi des femmes)',\n",
       "       'Employés, agriculture, hommes (% d’emploi des hommes)',\n",
       "       'Employés, industrie, hommes (% d’emploi des hommes)',\n",
       "       'Employés, services, hommes (% d’emploi des hommes)',\n",
       "       'Industrie, valeur ajoutée (% du PIB)',\n",
       "       'Services, value added (% of GDP)'],\n",
       "      dtype='object', name='Variable')"
      ]
     },
     "execution_count": 16,
     "metadata": {},
     "output_type": "execute_result"
    }
   ],
   "source": [
    "base_panel.columns"
   ]
  },
  {
   "cell_type": "code",
   "execution_count": 19,
   "metadata": {},
   "outputs": [],
   "source": [
    "df_reshaped=base_panel"
   ]
  },
  {
   "cell_type": "code",
   "execution_count": 22,
   "metadata": {},
   "outputs": [],
   "source": [
    "year_list = list(df_reshaped.Year.unique())[::-1]\n",
    "selected_year = 2019\n",
    "\n",
    "Pays=list(df_reshaped.Country.unique())\n",
    "selected_pays=\"Tchad\"\n",
    "\n",
    "\n",
    "df_selected_year = df_reshaped[df_reshaped.Year == selected_year]\n",
    "df_selected_pays=df_selected_year[df_selected_year.Country==selected_pays]\n"
   ]
  },
  {
   "cell_type": "code",
   "execution_count": 26,
   "metadata": {},
   "outputs": [
    {
     "data": {
      "text/plain": [
       "654    2019\n",
       "Name: Year, dtype: int32"
      ]
     },
     "execution_count": 26,
     "metadata": {},
     "output_type": "execute_result"
    }
   ],
   "source": [
    "a=df_selected_pays[\"Year\"]\n",
    "a"
   ]
  },
  {
   "cell_type": "code",
   "execution_count": 28,
   "metadata": {},
   "outputs": [
    {
     "data": {
      "text/plain": [
       "654    24.135393\n",
       "Name: Agriculture, valeur ajoutée (% du PIB), dtype: float64"
      ]
     },
     "execution_count": 28,
     "metadata": {},
     "output_type": "execute_result"
    }
   ],
   "source": [
    "df_selected_pays[\"Agriculture, valeur ajoutée (% du PIB)\"]"
   ]
  },
  {
   "cell_type": "code",
   "execution_count": 29,
   "metadata": {},
   "outputs": [
    {
     "name": "stdout",
     "output_type": "stream",
     "text": [
      "Help on method metric in module streamlit.delta_generator:\n",
      "\n",
      "metric(label: 'str', value: 'Value', delta: 'Delta' = None, delta_color: 'DeltaColor' = 'normal', help: 'str | None' = None, label_visibility: 'LabelVisibility' = 'visible') -> 'DeltaGenerator' method of streamlit.delta_generator.DeltaGenerator instance\n",
      "    Display a metric in big bold font, with an optional indicator of how the metric changed.\n",
      "    \n",
      "    Tip: If you want to display a large number, it may be a good idea to\n",
      "    shorten it using packages like `millify <https://github.com/azaitsev/millify>`_\n",
      "    or `numerize <https://github.com/davidsa03/numerize>`_. E.g. ``1234`` can be\n",
      "    displayed as ``1.2k`` using ``st.metric(\"Short number\", millify(1234))``.\n",
      "    \n",
      "    Parameters\n",
      "    ----------\n",
      "    label : str\n",
      "        The header or title for the metric. The label can optionally\n",
      "        contain GitHub-flavored Markdown of the following types: Bold, Italics,\n",
      "        Strikethroughs, Inline Code, and Links.\n",
      "    \n",
      "        Unsupported Markdown elements are unwrapped so only their children\n",
      "        (text contents) render. Display unsupported elements as literal\n",
      "        characters by backslash-escaping them. E.g.,\n",
      "        ``\"1\\. Not an ordered list\"``.\n",
      "    \n",
      "        See the ``body`` parameter of |st.markdown|_ for additional,\n",
      "        supported Markdown directives.\n",
      "    \n",
      "        .. |st.markdown| replace:: ``st.markdown``\n",
      "        .. _st.markdown: https://docs.streamlit.io/develop/api-reference/text/st.markdown\n",
      "    \n",
      "    value : int, float, str, or None\n",
      "         Value of the metric. None is rendered as a long dash.\n",
      "    \n",
      "    delta : int, float, str, or None\n",
      "        Indicator of how the metric changed, rendered with an arrow below\n",
      "        the metric. If delta is negative (int/float) or starts with a minus\n",
      "        sign (str), the arrow points down and the text is red; else the\n",
      "        arrow points up and the text is green. If None (default), no delta\n",
      "        indicator is shown.\n",
      "    \n",
      "    delta_color : \"normal\", \"inverse\", or \"off\"\n",
      "         If \"normal\" (default), the delta indicator is shown as described\n",
      "         above. If \"inverse\", it is red when positive and green when\n",
      "         negative. This is useful when a negative change is considered\n",
      "         good, e.g. if cost decreased. If \"off\", delta is  shown in gray\n",
      "         regardless of its value.\n",
      "    \n",
      "    help : str\n",
      "        An optional tooltip that gets displayed next to the metric label.\n",
      "    \n",
      "    label_visibility : \"visible\", \"hidden\", or \"collapsed\"\n",
      "        The visibility of the label. If \"hidden\", the label doesn't show but there\n",
      "        is still empty space for it (equivalent to label=\"\").\n",
      "        If \"collapsed\", both the label and the space are removed. Default is\n",
      "        \"visible\".\n",
      "    \n",
      "    Example\n",
      "    -------\n",
      "    >>> import streamlit as st\n",
      "    >>>\n",
      "    >>> st.metric(label=\"Temperature\", value=\"70 °F\", delta=\"1.2 °F\")\n",
      "    \n",
      "    .. output::\n",
      "        https://doc-metric-example1.streamlit.app/\n",
      "        height: 210px\n",
      "    \n",
      "    ``st.metric`` looks especially nice in combination with ``st.columns``:\n",
      "    \n",
      "    >>> import streamlit as st\n",
      "    >>>\n",
      "    >>> col1, col2, col3 = st.columns(3)\n",
      "    >>> col1.metric(\"Temperature\", \"70 °F\", \"1.2 °F\")\n",
      "    >>> col2.metric(\"Wind\", \"9 mph\", \"-8%\")\n",
      "    >>> col3.metric(\"Humidity\", \"86%\", \"4%\")\n",
      "    \n",
      "    .. output::\n",
      "        https://doc-metric-example2.streamlit.app/\n",
      "        height: 210px\n",
      "    \n",
      "    The delta indicator color can also be inverted or turned off:\n",
      "    \n",
      "    >>> import streamlit as st\n",
      "    >>>\n",
      "    >>> st.metric(label=\"Gas price\", value=4, delta=-0.5, delta_color=\"inverse\")\n",
      "    >>>\n",
      "    >>> st.metric(\n",
      "    ...     label=\"Active developers\", value=123, delta=123, delta_color=\"off\"\n",
      "    ... )\n",
      "    \n",
      "    .. output::\n",
      "        https://doc-metric-example3.streamlit.app/\n",
      "        height: 320px\n",
      "\n"
     ]
    }
   ],
   "source": [
    "help(st.metric)"
   ]
  },
  {
   "cell_type": "code",
   "execution_count": 30,
   "metadata": {},
   "outputs": [
    {
     "data": {
      "text/html": [
       "<div>\n",
       "<style scoped>\n",
       "    .dataframe tbody tr th:only-of-type {\n",
       "        vertical-align: middle;\n",
       "    }\n",
       "\n",
       "    .dataframe tbody tr th {\n",
       "        vertical-align: top;\n",
       "    }\n",
       "\n",
       "    .dataframe thead th {\n",
       "        text-align: right;\n",
       "    }\n",
       "</style>\n",
       "<table border=\"1\" class=\"dataframe\">\n",
       "  <thead>\n",
       "    <tr style=\"text-align: right;\">\n",
       "      <th></th>\n",
       "      <th>Genre</th>\n",
       "      <th>Taux d'emploi</th>\n",
       "    </tr>\n",
       "  </thead>\n",
       "  <tbody>\n",
       "    <tr>\n",
       "      <th>0</th>\n",
       "      <td>Hommes</td>\n",
       "      <td>75</td>\n",
       "    </tr>\n",
       "    <tr>\n",
       "      <th>1</th>\n",
       "      <td>Femmes</td>\n",
       "      <td>65</td>\n",
       "    </tr>\n",
       "  </tbody>\n",
       "</table>\n",
       "</div>"
      ],
      "text/plain": [
       "    Genre  Taux d'emploi\n",
       "0  Hommes             75\n",
       "1  Femmes             65"
      ]
     },
     "execution_count": 30,
     "metadata": {},
     "output_type": "execute_result"
    }
   ],
   "source": [
    "data = {\n",
    "    \"Genre\": [\"Hommes\", \"Femmes\"],\n",
    "    \"Taux d'emploi\": [75, 65]  # Exemple de taux d'emploi\n",
    "}\n",
    "\n",
    "# Conversion en DataFrame\n",
    "df = pd.DataFrame(data)\n",
    "df"
   ]
  },
  {
   "cell_type": "code",
   "execution_count": 31,
   "metadata": {},
   "outputs": [
    {
     "name": "stderr",
     "output_type": "stream",
     "text": [
      "2024-12-02 00:08:52.723 WARNING streamlit.runtime.scriptrunner_utils.script_run_context: Thread 'MainThread': missing ScriptRunContext! This warning can be ignored when running in bare mode.\n",
      "2024-12-02 00:08:53.142 \n",
      "  \u001b[33m\u001b[1mWarning:\u001b[0m to view this Streamlit app on a browser, run it with the following\n",
      "  command:\n",
      "\n",
      "    streamlit run c:\\Users\\Hp\\anaconda3\\Lib\\site-packages\\ipykernel_launcher.py [ARGUMENTS]\n",
      "2024-12-02 00:08:53.142 Thread 'MainThread': missing ScriptRunContext! This warning can be ignored when running in bare mode.\n",
      "2024-12-02 00:08:53.142 Thread 'MainThread': missing ScriptRunContext! This warning can be ignored when running in bare mode.\n",
      "2024-12-02 00:08:53.142 Thread 'MainThread': missing ScriptRunContext! This warning can be ignored when running in bare mode.\n",
      "2024-12-02 00:08:53.273 Thread 'MainThread': missing ScriptRunContext! This warning can be ignored when running in bare mode.\n",
      "2024-12-02 00:08:53.273 Thread 'MainThread': missing ScriptRunContext! This warning can be ignored when running in bare mode.\n"
     ]
    },
    {
     "data": {
      "text/plain": [
       "DeltaGenerator()"
      ]
     },
     "execution_count": 31,
     "metadata": {},
     "output_type": "execute_result"
    }
   ],
   "source": [
    "import streamlit as st\n",
    "import pandas as pd\n",
    "import altair as alt\n",
    "\n",
    "# Données (exemple)\n",
    "data = {\n",
    "    \"Genre\": [\"Hommes\", \"Femmes\"],\n",
    "    \"Taux d'emploi\": [75, 65]  # Exemple de taux d'emploi\n",
    "}\n",
    "\n",
    "# Conversion en DataFrame\n",
    "df = pd.DataFrame(data)\n",
    "\n",
    "# Titre de l'application\n",
    "st.title(\"Comparaison des taux d'emploi\")\n",
    "\n",
    "# Sous-titre\n",
    "st.subheader(\"Diagramme à barres comparant le taux d'emploi des hommes et des femmes\")\n",
    "\n",
    "# Création du graphique Altair\n",
    "chart = alt.Chart(df).mark_bar().encode(\n",
    "    x=alt.X(\"Genre:N\", title=\"Genre\"),\n",
    "    y=alt.Y(\"Taux d'emploi:Q\", title=\"Taux d'emploi (%)\"),\n",
    "    color=alt.Color(\"Genre:N\", scale=alt.Scale(domain=[\"Hommes\", \"Femmes\"], range=[\"#1f77b4\", \"#ff7f0e\"])),\n",
    "    tooltip=[\"Genre\", \"Taux d'emploi\"]\n",
    ").properties(\n",
    "    width=400,\n",
    "    height=300,\n",
    "    title=\"Comparaison des taux d'emploi\"\n",
    ")\n",
    "\n",
    "# Affichage dans Streamlit\n",
    "st.altair_chart(chart, use_container_width=True)\n"
   ]
  },
  {
   "cell_type": "code",
   "execution_count": 32,
   "metadata": {},
   "outputs": [
    {
     "data": {
      "text/html": [
       "<div>\n",
       "<style scoped>\n",
       "    .dataframe tbody tr th:only-of-type {\n",
       "        vertical-align: middle;\n",
       "    }\n",
       "\n",
       "    .dataframe tbody tr th {\n",
       "        vertical-align: top;\n",
       "    }\n",
       "\n",
       "    .dataframe thead th {\n",
       "        text-align: right;\n",
       "    }\n",
       "</style>\n",
       "<table border=\"1\" class=\"dataframe\">\n",
       "  <thead>\n",
       "    <tr style=\"text-align: right;\">\n",
       "      <th></th>\n",
       "      <th>Catégorie</th>\n",
       "      <th>Genre</th>\n",
       "      <th>Pourcentage</th>\n",
       "    </tr>\n",
       "  </thead>\n",
       "  <tbody>\n",
       "    <tr>\n",
       "      <th>0</th>\n",
       "      <td>Agriculture</td>\n",
       "      <td>Hommes (%)</td>\n",
       "      <td>30</td>\n",
       "    </tr>\n",
       "    <tr>\n",
       "      <th>1</th>\n",
       "      <td>Industrie</td>\n",
       "      <td>Hommes (%)</td>\n",
       "      <td>50</td>\n",
       "    </tr>\n",
       "    <tr>\n",
       "      <th>2</th>\n",
       "      <td>Services</td>\n",
       "      <td>Hommes (%)</td>\n",
       "      <td>60</td>\n",
       "    </tr>\n",
       "    <tr>\n",
       "      <th>3</th>\n",
       "      <td>Commerce</td>\n",
       "      <td>Hommes (%)</td>\n",
       "      <td>40</td>\n",
       "    </tr>\n",
       "    <tr>\n",
       "      <th>4</th>\n",
       "      <td>Agriculture</td>\n",
       "      <td>Femmes (%)</td>\n",
       "      <td>25</td>\n",
       "    </tr>\n",
       "    <tr>\n",
       "      <th>5</th>\n",
       "      <td>Industrie</td>\n",
       "      <td>Femmes (%)</td>\n",
       "      <td>30</td>\n",
       "    </tr>\n",
       "    <tr>\n",
       "      <th>6</th>\n",
       "      <td>Services</td>\n",
       "      <td>Femmes (%)</td>\n",
       "      <td>55</td>\n",
       "    </tr>\n",
       "    <tr>\n",
       "      <th>7</th>\n",
       "      <td>Commerce</td>\n",
       "      <td>Femmes (%)</td>\n",
       "      <td>35</td>\n",
       "    </tr>\n",
       "  </tbody>\n",
       "</table>\n",
       "</div>"
      ],
      "text/plain": [
       "     Catégorie       Genre  Pourcentage\n",
       "0  Agriculture  Hommes (%)           30\n",
       "1    Industrie  Hommes (%)           50\n",
       "2     Services  Hommes (%)           60\n",
       "3     Commerce  Hommes (%)           40\n",
       "4  Agriculture  Femmes (%)           25\n",
       "5    Industrie  Femmes (%)           30\n",
       "6     Services  Femmes (%)           55\n",
       "7     Commerce  Femmes (%)           35"
      ]
     },
     "execution_count": 32,
     "metadata": {},
     "output_type": "execute_result"
    }
   ],
   "source": [
    "data = pd.DataFrame({\n",
    "    \"Catégorie\": [\"Agriculture\", \"Industrie\", \"Services\", \"Commerce\"],\n",
    "    \"Hommes (%)\": [30, 50, 60, 40],\n",
    "    \"Femmes (%)\": [25, 30, 55, 35]\n",
    "})\n",
    "\n",
    "# Transformation des données pour Altair (long format)\n",
    "data_melted = data.melt(id_vars=[\"Catégorie\"], \n",
    "                        value_vars=[\"Hommes (%)\", \"Femmes (%)\"], \n",
    "                        var_name=\"Genre\", \n",
    "                        value_name=\"Pourcentage\")\n",
    "data_melted"
   ]
  },
  {
   "cell_type": "code",
   "execution_count": null,
   "metadata": {},
   "outputs": [],
   "source": [
    "\n",
    "    # Fonction pour récupérer les données de la Banque mondiale#####################################################################\n",
    "    import requests\n",
    "    def get_data_from_world_bank(year):\n",
    "        url = f'http://api.worldbank.org/v2/country/{\"/\".join([\"AFR\", \"AFR\"])}/indicator/SL.TLF.TOTL.ZS?date={year}&format=json'\n",
    "        \n",
    "        response = requests.get(url)\n",
    "        data = response.json()\n",
    "        \n",
    "        # Extraire les données du JSON\n",
    "        if len(data) > 1:\n",
    "            df = pd.DataFrame(data[1])\n",
    "            df = df[['country', 'date', 'value']]\n",
    "            df['value'] = df['value'].round(2)\n",
    "            return df\n",
    "        else:\n",
    "            return None\n",
    "    data = get_data_from_world_bank(selected_year)\n",
    "    st.dataframe(data)"
   ]
  },
  {
   "cell_type": "code",
   "execution_count": null,
   "metadata": {},
   "outputs": [],
   "source": [
    "   st.image(dylan,use_column_width=True)\n",
    "    st.markdown(\n",
    "        f\"\"\"\n",
    "        ##### AZAPMO TAZO Dylan \n",
    "        - 📧 Email:  <student.dylan.tazo@issea-cemac.org>\n",
    "        - Linkedin:  https://www.linkedin.com/in/dilane-tazo\n",
    "\n",
    "        ##### MPOLAH SOH Natacha Flaire\n",
    "        - 📧 Email: <eliassetiao@gmail.com>\n",
    "        - Linkedin: http://www.linkedin.com/in/flaire-natacha-mpolah-soh-75b324268\n",
    "\n",
    "        ##### NADJILEM BEGOTO\n",
    "        - 📧 Email: <jnadjilembegoto@gmail.com> ou <student.begoto.nadjilem@issea-cemac.org>\n",
    "        - Linkedin: https://www.linkedin.com/in/bégoto-nadjilem-192b8617b\n",
    "\n",
    "        ##### TEYANBAYE BERTORNGAI Christian\n",
    "        - 📧 Email: <teyanchrist@gmail.com> ou <student.christian.teyanbaye@issea-cemac.org>\n",
    "        - Linkedin: https://www.linkedin.com/in/christian-teyanbaye-berto\n",
    "\n",
    "        ##### TIAO Eliasse\n",
    "        - 📧 Email: <eliassetiao@gmail.com>\n",
    "        - Linkedin: https://\n",
    "        \"\"\",\n",
    "        unsafe_allow_html=True,\n",
    "    )\n",
    "    st.markdown('---')"
   ]
  }
 ],
 "metadata": {
  "kernelspec": {
   "display_name": "base",
   "language": "python",
   "name": "python3"
  },
  "language_info": {
   "codemirror_mode": {
    "name": "ipython",
    "version": 3
   },
   "file_extension": ".py",
   "mimetype": "text/x-python",
   "name": "python",
   "nbconvert_exporter": "python",
   "pygments_lexer": "ipython3",
   "version": "3.11.7"
  }
 },
 "nbformat": 4,
 "nbformat_minor": 2
}
